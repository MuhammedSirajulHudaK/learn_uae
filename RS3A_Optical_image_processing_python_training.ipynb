{
 "cells": [
  {
   "cell_type": "markdown",
   "metadata": {},
   "source": [
    "# Satellite Image Processing - PYTHON Tutorials\n",
    "##  Bayanat.ai\n",
    "\n",
    "MUHAMMED SIRAJUL HUDA K"
   ]
  },
  {
   "cell_type": "markdown",
   "metadata": {},
   "source": [
    "## 1. Reading Satellite Image and Understanding Pixels:\n"
   ]
  },
  {
   "cell_type": "markdown",
   "metadata": {},
   "source": [
    "We'll use Rasterio library to read the satellite image and understand the concept of pixels."
   ]
  },
  {
   "cell_type": "code",
   "execution_count": null,
   "metadata": {},
   "outputs": [],
   "source": [
    "# Use !pip install for any package installtion..."
   ]
  },
  {
   "cell_type": "code",
   "execution_count": null,
   "metadata": {},
   "outputs": [
    {
     "ename": "",
     "evalue": "",
     "output_type": "error",
     "traceback": [
      "\u001b[1;31mFailed to start the Kernel. \n",
      "\u001b[1;31mEPERM: operation not permitted, scandir '/Users/m.kalathingal/Desktop/training'. \n",
      "\u001b[1;31mView Jupyter <a href='command:jupyter.viewOutput'>log</a> for further details."
     ]
    }
   ],
   "source": [
    "import rasterio\n",
    "import matplotlib.pyplot as plt\n",
    "\n",
    "# Open the satellite image\n",
    "image_path = \"/Users/m.kalathingal/Desktop/training/data sets/sentinel2/GRANULE/L2A_T39RZH_A046106_20240420T070401/IMG_DATA/R10m/T39RZH_20240420T065621_TCI_10m.jp2\"\n",
    "sat_data = rasterio.open(image_path)\n",
    "\n",
    "# Read the image as an array\n",
    "image_array = sat_data.read()\n",
    "\n",
    "# Print image shape (bands, rows, columns)\n",
    "print(\"Image Shape:\", image_array.shape)\n",
    "\n",
    "# Display the first band of the image\n",
    "plt.imshow(image_array[0], cmap='gray')\n",
    "plt.title(\"First Band of the Image\")\n",
    "plt.colorbar()\n",
    "plt.show()\n"
   ]
  },
  {
   "cell_type": "markdown",
   "metadata": {},
   "source": [
    "- We import the rasterio library to work with raster data and matplotlib for visualization.\n",
    "- We open the satellite image using rasterio.open() and store it in sat_data.\n",
    "- The read() method is used to read the image data into an array, which contains values for each pixel.\n",
    "- We print the shape of the image array to understand its dimensions (bands, rows, columns).\n",
    "- Finally, we display the first band of the image using plt.imshow() and plt.colorbar()."
   ]
  },
  {
   "cell_type": "markdown",
   "metadata": {},
   "source": [
    "## 2. Understanding Bands:\n",
    "\n",
    "Each band in a satellite image represents a specific wavelength of light captured by the sensor."
   ]
  },
  {
   "cell_type": "code",
   "execution_count": null,
   "metadata": {},
   "outputs": [],
   "source": [
    "# Get the number of bands in the image\n",
    "num_bands = sat_data.count\n",
    "print(\"Number of Bands:\", num_bands)\n",
    "\n",
    "# Display all bands of the image\n",
    "fig, axes = plt.subplots(1, num_bands, figsize=(15, 5))\n",
    "for i in range(num_bands):\n",
    "    axes[i].imshow(image_array[i], cmap='gray')\n",
    "    axes[i].set_title(\"Band {}\".format(i+1))\n",
    "    axes[i].axis('off')\n",
    "plt.show()\n"
   ]
  },
  {
   "cell_type": "markdown",
   "metadata": {},
   "source": [
    "- We use sat_data.count to get the number of bands in the image.\n",
    "- Then, we create subplots to display each band of the image using a grayscale colormap.\n",
    "- The loop iterates through each band, displaying it with a corresponding title."
   ]
  },
  {
   "cell_type": "markdown",
   "metadata": {},
   "source": [
    "## 3.  Accessing and Understanding Metadata\n",
    "- We import the rasterio library to work with raster data.\n",
    "- The rasterio.open() function opens the satellite image file and returns a dataset (src).\n",
    "- We print metadata information such as resolution, CRS, bounds, number of bands, and band descriptions using properties of the dataset (src).\n",
    "- We use a loop to access and print the shape of each band in the image."
   ]
  },
  {
   "cell_type": "code",
   "execution_count": null,
   "metadata": {},
   "outputs": [],
   "source": [
    "import rasterio\n",
    "\n",
    "# Path to the satellite image\n",
    "image_path = \"path_to_your_image.tif\"\n",
    "\n",
    "# Open the satellite image\n",
    "with rasterio.open(image_path) as src:\n",
    "    # Read metadata\n",
    "    print(\"Image Metadata:\")\n",
    "    print(\"Resolution (width, height):\", src.width, src.height)\n",
    "    print(\"Coordinate Reference System (CRS):\", src.crs)\n",
    "    print(\"Bounds:\", src.bounds)\n",
    "    print(\"Number of Bands:\", src.count)\n",
    "    print(\"Band Descriptions:\", src.descriptions)\n",
    "    \n",
    "    # Access and display each band\n",
    "    for i in range(1, src.count + 1):\n",
    "        band = src.read(i)\n",
    "        print(\"Band\", i, \"shape:\", band.shape)"
   ]
  },
  {
   "cell_type": "markdown",
   "metadata": {},
   "source": [
    "## 4. Visualizing Bands and Pixels\n",
    "\n",
    "- We import rasterio for reading the image data and matplotlib.pyplot for visualization.\n",
    "- We open the satellite image and read it as an array.\n",
    "- Using plt.subplots(), we create subplots to display each band of the image using a grayscale colormap.\n",
    "- The loop iterates through each band, displaying it with a corresponding title."
   ]
  },
  {
   "cell_type": "code",
   "execution_count": null,
   "metadata": {},
   "outputs": [],
   "source": [
    "import rasterio\n",
    "import matplotlib.pyplot as plt\n",
    "\n",
    "# Open the satellite image\n",
    "image_path = \"path_to_your_image.tif\"\n",
    "sat_data = rasterio.open(image_path)\n",
    "\n",
    "# Read the image as an array\n",
    "image_array = sat_data.read()\n",
    "\n",
    "# Display all bands of the image\n",
    "fig, axes = plt.subplots(1, sat_data.count, figsize=(15, 5))\n",
    "for i in range(sat_data.count):\n",
    "    axes[i].imshow(image_array[i], cmap='gray')\n",
    "    axes[i].set_title(\"Band {}\".format(i+1))\n",
    "    axes[i].axis('off')\n",
    "plt.show()\n"
   ]
  },
  {
   "cell_type": "markdown",
   "metadata": {},
   "source": [
    "##  5. Exploring Pixel Values:\n",
    "\n",
    "- We import rasterio and numpy for processing raster data and numerical operations, respectively.\n",
    "- The image is opened, and its pixel values are read into an array.\n",
    "- We calculate statistics such as minimum, maximum, mean, and standard deviation of pixel values using NumPy functions."
   ]
  },
  {
   "cell_type": "code",
   "execution_count": null,
   "metadata": {},
   "outputs": [],
   "source": [
    "import rasterio\n",
    "import numpy as np\n",
    "\n",
    "# Open the satellite image\n",
    "image_path = \"path_to_your_image.tif\"\n",
    "with rasterio.open(image_path) as src:\n",
    "    # Read the image as an array\n",
    "    image_array = src.read()\n",
    "\n",
    "    # Calculate statistics of pixel values\n",
    "    min_val = np.min(image_array)\n",
    "    max_val = np.max(image_array)\n",
    "    mean_val = np.mean(image_array)\n",
    "    std_dev = np.std(image_array)\n",
    "\n",
    "    print(\"Minimum Pixel Value:\", min_val)\n",
    "    print(\"Maximum Pixel Value:\", max_val)\n",
    "    print(\"Mean Pixel Value:\", mean_val)\n",
    "    print(\"Standard Deviation of Pixel Values:\", std_dev)\n"
   ]
  },
  {
   "cell_type": "markdown",
   "metadata": {},
   "source": [
    "## 6.Image Cropping and Resizing:\n",
    "\n",
    "- We import rasterio and rasterio.windows for working with image windows.\n",
    "- A window is defined for cropping the image (e.g., selecting a region of interest).\n",
    "- The cropped image is read using the specified window.\n",
    "- Resizing of the image is performed by specifying the desired output shape.\n"
   ]
  },
  {
   "cell_type": "code",
   "execution_count": null,
   "metadata": {},
   "outputs": [],
   "source": [
    "import rasterio\n",
    "\n",
    "# Open the satellite image\n",
    "image_path = \"path_to_your_image.tif\"\n",
    "with rasterio.open(image_path) as src:\n",
    "    # Perform resizing (e.g., resizing by a factor of 0.5)\n",
    "    resized_image_data = src.read(out_shape=(src.count, int(src.height * 0.5), int(src.width * 0.5)))\n",
    "    \n",
    "    # Define metadata for the resized image\n",
    "    resized_meta = src.meta.copy()\n",
    "    resized_meta['height'] = int(src.height * 0.5)\n",
    "    resized_meta['width'] = int(src.width * 0.5)\n",
    "    \n",
    "    # Path to save the resized image\n",
    "    output_path = \"path_to_save_resized_image.tif\"\n",
    "    \n",
    "    # Write the resized image data to a new GeoTIFF file\n",
    "    with rasterio.open(output_path, 'w', **resized_meta) as dst:\n",
    "        dst.write(resized_image_data)\n"
   ]
  },
  {
   "cell_type": "markdown",
   "metadata": {},
   "source": []
  },
  {
   "cell_type": "markdown",
   "metadata": {},
   "source": [
    "##  7.Image Rotation:\n",
    "\n",
    "- We import rasterio for raster data manipulation and Resampling enum for specifying resampling methods.\n",
    "- The image is opened using rasterio.open().\n",
    "- We rotate the image by a specified angle (e.g., 90 degrees clockwise) using src.read() with the out_shape parameter.\n",
    "- The rotated image is saved to a new GeoTIFF file with the specified output path, preserving its metadata."
   ]
  },
  {
   "cell_type": "code",
   "execution_count": null,
   "metadata": {},
   "outputs": [],
   "source": [
    "import rasterio\n",
    "from rasterio.enums import Resampling\n",
    "\n",
    "# Open the satellite image\n",
    "image_path = \"path_to_your_image.tif\"\n",
    "with rasterio.open(image_path) as src:\n",
    "    # Rotate the image by a specified angle (e.g., 90 degrees clockwise)\n",
    "    rotated_image = src.read(1, out_shape=(src.height, src.width), resampling=Resampling.nearest)\n",
    "    \n",
    "    # Save the rotated image to a new GeoTIFF file\n",
    "    output_path = \"path_to_save_rotated_image.tif\"\n",
    "    with rasterio.open(output_path, 'w', driver='GTiff', width=src.width, height=src.height, count=1, dtype=src.dtypes[0], crs=src.crs, transform=src.transform) as dst:\n",
    "        dst.write(rotated_image, 1)\n"
   ]
  },
  {
   "cell_type": "markdown",
   "metadata": {},
   "source": [
    "## 8. Image Blending:\n",
    "\n",
    "- We open two satellite images using rasterio.open().\n",
    "- The image data is read into arrays (image1 and image2).\n",
    "- We blend the images using a weighted average, where each pixel in the blended image is\n"
   ]
  },
  {
   "cell_type": "code",
   "execution_count": null,
   "metadata": {},
   "outputs": [],
   "source": [
    "import rasterio\n",
    "import numpy as np\n",
    "\n",
    "# Open the satellite images\n",
    "image1_path = \"path_to_image1.tif\"\n",
    "image2_path = \"path_to_image2.tif\"\n",
    "with rasterio.open(image1_path) as src1, rasterio.open(image2_path) as src2:\n",
    "    # Read image data\n",
    "    image1 = src1.read()\n",
    "    image2 = src2.read()\n",
    "    \n",
    "    # Blend images using a weighted average\n",
    "    blended_image = (image1 * 0.5 + image2 * 0.5).astype(np.uint8)\n",
    "    \n",
    "    # Save the blended image to a new GeoTIFF file\n",
    "    output_path = \"path_to_save_blended_image.tif\"\n",
    "    with rasterio.open(output_path, 'w', **src1.profile) as dst:\n",
    "        dst.write(blended_image)\n"
   ]
  },
  {
   "cell_type": "markdown",
   "metadata": {},
   "source": [
    "## 9. Band Calculation:\n",
    "\n",
    "Band calculation involves mathematical operations on individual bands to derive new bands or indices. Here's an example of calculating Normalized Difference Vegetation Index (NDVI) from Near Infrared (NIR) and Red bands.\n"
   ]
  },
  {
   "cell_type": "code",
   "execution_count": null,
   "metadata": {},
   "outputs": [],
   "source": [
    "import rasterio\n",
    "import numpy as np\n",
    "\n",
    "# Open the satellite image\n",
    "image_path = \"path_to_your_image.tif\"\n",
    "with rasterio.open(image_path) as src:\n",
    "    # Read NIR and Red bands\n",
    "    nir_band = src.read(4)  # Assuming NIR band is the 4th band\n",
    "    red_band = src.read(3)  # Assuming Red band is the 3rd band\n",
    "    \n",
    "    # Calculate NDVI\n",
    "    ndvi = (nir_band - red_band) / (nir_band + red_band)\n",
    "    \n",
    "    # Save NDVI as a new GeoTIFF file\n",
    "    output_path = \"path_to_save_ndvi.tif\"\n",
    "    with rasterio.open(output_path, 'w', **src.profile) as dst:\n",
    "        dst.write(ndvi, 1)\n"
   ]
  },
  {
   "cell_type": "markdown",
   "metadata": {},
   "source": [
    "## 10.  Geometric Correction:\n",
    "\n",
    "Geometric correction involves correcting image distortions caused by sensor and terrain variations. Here's an example of performing affine transformation for geometric correction."
   ]
  },
  {
   "cell_type": "code",
   "execution_count": null,
   "metadata": {},
   "outputs": [],
   "source": [
    "import rasterio\n",
    "from rasterio.transform import Affine\n",
    "\n",
    "# Open the satellite image\n",
    "image_path = \"path_to_your_image.tif\"\n",
    "with rasterio.open(image_path) as src:\n",
    "    # Define affine transformation parameters (e.g., scaling, rotation, translation)\n",
    "    new_transform = Affine.scale(0.5, 0.5) * src.transform\n",
    "    \n",
    "    # Perform geometric correction\n",
    "    corrected_image = src.read(out_shape=(src.count, int(src.height * 0.5), int(src.width * 0.5)), resampling=rasterio.enums.Resampling.bilinear, transform=new_transform)\n",
    "    \n",
    "    # Save the corrected image as a new GeoTIFF file\n",
    "    output_path = \"path_to_save_corrected_image.tif\"\n",
    "    with rasterio.open(output_path, 'w', **src.profile) as dst:\n",
    "        dst.write(corrected_image)\n"
   ]
  },
  {
   "cell_type": "markdown",
   "metadata": {},
   "source": [
    "## 11.  Radiometric Correction:\n",
    "\n",
    "Radiometric correction involves correcting variations in pixel values caused by atmospheric effects or sensor characteristics. Here's an example of applying histogram equalization for radiometric correction."
   ]
  },
  {
   "cell_type": "code",
   "execution_count": null,
   "metadata": {},
   "outputs": [],
   "source": [
    "import rasterio\n",
    "from skimage import exposure\n",
    "\n",
    "# Open the satellite image\n",
    "image_path = \"path_to_your_image.tif\"\n",
    "with rasterio.open(image_path) as src:\n",
    "    # Read the image data\n",
    "    image_data = src.read()\n",
    "    \n",
    "    # Apply histogram equalization for radiometric correction\n",
    "    corrected_image = exposure.equalize_hist(image_data)\n",
    "    \n",
    "    # Save the corrected image as a new GeoTIFF file\n",
    "    output_path = \"path_to_save_corrected_image.tif\"\n",
    "    with rasterio.open(output_path, 'w', **src.profile) as dst:\n",
    "        dst.write(corrected_image)\n",
    "\n"
   ]
  },
  {
   "cell_type": "markdown",
   "metadata": {},
   "source": [
    "## 12.Filtering and Image Manipulation:\n",
    "\n",
    "Filtering and image manipulation techniques are used to enhance or extract features from the image. Here's an example of applying a Gaussian filter for smoothing.\n",
    "\n"
   ]
  },
  {
   "cell_type": "code",
   "execution_count": null,
   "metadata": {},
   "outputs": [],
   "source": [
    "import rasterio\n",
    "from scipy.ndimage import gaussian_filter\n",
    "\n",
    "# Open the satellite image\n",
    "image_path = \"path_to_your_image.tif\"\n",
    "with rasterio.open(image_path) as src:\n",
    "    # Read the image data\n",
    "    image_data = src.read()\n",
    "    \n",
    "    # Apply Gaussian filter for smoothing\n",
    "    smoothed_image = gaussian_filter(image_data, sigma=1)\n",
    "    \n",
    "    # Save the smoothed image as a new GeoTIFF file\n",
    "    output_path = \"path_to_save_smoothed_image.tif\"\n",
    "    with rasterio.open(output_path, 'w', **src.profile) as dst:\n",
    "        dst.write(smoothed_image)\n"
   ]
  }
 ],
 "metadata": {
  "kernelspec": {
   "display_name": "Python 3",
   "language": "python",
   "name": "python3"
  },
  "language_info": {
   "name": "python",
   "version": "3.9.6"
  }
 },
 "nbformat": 4,
 "nbformat_minor": 2
}
